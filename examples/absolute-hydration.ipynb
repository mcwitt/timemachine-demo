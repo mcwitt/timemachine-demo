{
 "cells": [
  {
   "cell_type": "code",
   "execution_count": 1,
   "id": "5b065282-5ece-4391-be82-469afc29b05b",
   "metadata": {},
   "outputs": [],
   "source": [
    "%config InlineBackend.figure_format = \"retina\""
   ]
  },
  {
   "cell_type": "code",
   "execution_count": 2,
   "id": "014a5919-7379-4df6-803c-79cc9cd85e48",
   "metadata": {},
   "outputs": [
    {
     "data": {
      "text/html": [
       "\n",
       "                <script type=\"application/javascript\" id=\"jupyter_black\">\n",
       "                function jb_set_cell(\n",
       "                        jb_formatted_code\n",
       "                        ) {\n",
       "                    for (var cell of Jupyter.notebook.get_cells()) {\n",
       "                        if (cell.input_prompt_number == \"*\") {\n",
       "                            cell.set_text(jb_formatted_code)\n",
       "                            return\n",
       "                        }\n",
       "                    }\n",
       "                }\n",
       "                </script>\n",
       "                "
      ],
      "text/plain": [
       "<IPython.core.display.HTML object>"
      ]
     },
     "metadata": {},
     "output_type": "display_data"
    }
   ],
   "source": [
    "import jupyter_black\n",
    "\n",
    "jupyter_black.load(lab=False)"
   ]
  },
  {
   "cell_type": "markdown",
   "id": "eab69f04-068a-4d7e-b1a8-bb49be509310",
   "metadata": {},
   "source": [
    "# Absolute hydration free energy"
   ]
  },
  {
   "cell_type": "code",
   "execution_count": 3,
   "id": "aec527fd-cbf8-4777-a00b-5a7b6efce219",
   "metadata": {},
   "outputs": [],
   "source": [
    "import rdkit.Chem.Draw.IPythonConsole\n",
    "\n",
    "# rdkit.Chem.Draw.IPythonConsole.ipython_3d = True"
   ]
  },
  {
   "cell_type": "code",
   "execution_count": 4,
   "id": "1e8a67c4-8ae7-4642-937b-bff2286c08a3",
   "metadata": {},
   "outputs": [],
   "source": [
    "from functools import partial\n",
    "\n",
    "import numpy as np"
   ]
  },
  {
   "cell_type": "markdown",
   "id": "575805bf-aa99-4e32-b1a1-8c3b51d046e8",
   "metadata": {},
   "source": [
    "## Set up test system"
   ]
  },
  {
   "cell_type": "code",
   "execution_count": 5,
   "id": "f007522d-215c-4a17-9b1a-a63c8200b5b9",
   "metadata": {},
   "outputs": [],
   "source": [
    "from timemachine.datasets import fetch_freesolv\n",
    "from timemachine.fe.utils import get_mol_name"
   ]
  },
  {
   "cell_type": "code",
   "execution_count": 6,
   "id": "2bb490c9-cfaf-4266-acf2-db769475a3da",
   "metadata": {},
   "outputs": [
    {
     "name": "stderr",
     "output_type": "stream",
     "text": [
      "[09:01:48] Warning: molecule is tagged as 3D, but all Z coords are zero\n"
     ]
    }
   ],
   "source": [
    "mols = {get_mol_name(mol): mol for mol in fetch_freesolv()}"
   ]
  },
  {
   "cell_type": "code",
   "execution_count": 7,
   "id": "d0a9f4c9-bea3-4005-b634-8eeedd28efd2",
   "metadata": {},
   "outputs": [
    {
     "data": {
      "image/png": "[encoded data removed]",
      "text/html": [
       "<table><tr><td colspan=2 style=\"text-align:center\"><image src=\"data:image/png;base64,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\"></td></tr>\n",
       "<tr><th style=\"text-align:right\">dG</th><td style=\"text-align:left\">-0.9</td></tr>\n",
       "<tr><th style=\"text-align:right\">dG_err</th><td style=\"text-align:left\">0.2</td></tr></table>"
      ],
      "text/plain": [
       "<rdkit.Chem.rdchem.Mol at 0x7f8d59311700>"
      ]
     },
     "execution_count": 7,
     "metadata": {},
     "output_type": "execute_result"
    }
   ],
   "source": [
    "mol = mols[\"mobley_3053621\"]\n",
    "mol"
   ]
  },
  {
   "cell_type": "markdown",
   "id": "c0a67b16-e871-4779-90dd-86cc460a99f2",
   "metadata": {},
   "source": [
    "### Parameterize solvent phase system"
   ]
  },
  {
   "cell_type": "code",
   "execution_count": 8,
   "id": "c97ec877-412f-4420-8b3f-2918f6db2fe8",
   "metadata": {},
   "outputs": [],
   "source": [
    "from timemachine.constants import DEFAULT_FF\n",
    "from timemachine.ff import Forcefield"
   ]
  },
  {
   "cell_type": "code",
   "execution_count": 9,
   "id": "3822a0ed-f8b2-4da1-96f0-8e571bf5fde1",
   "metadata": {},
   "outputs": [],
   "source": [
    "forcefield = Forcefield.load_from_file(DEFAULT_FF)"
   ]
  },
  {
   "cell_type": "code",
   "execution_count": 10,
   "id": "ad322f35-bd19-4c84-8bf7-4cb73b70ca8d",
   "metadata": {},
   "outputs": [
    {
     "name": "stderr",
     "output_type": "stream",
     "text": [
      "WARNING:root:Warning: importing 'simtk.openmm' is deprecated.  Import 'openmm' instead.\n"
     ]
    }
   ],
   "source": [
    "from timemachine.md import enhanced"
   ]
  },
  {
   "cell_type": "code",
   "execution_count": 11,
   "id": "d65b4a1a-cdc4-49f0-99e8-184391bad971",
   "metadata": {},
   "outputs": [
    {
     "name": "stderr",
     "output_type": "stream",
     "text": [
      "WARNING:absl:No GPU/TPU found, falling back to CPU. (Set TF_CPP_MIN_LOG_LEVEL=0 and rerun for more info.)\n"
     ]
    }
   ],
   "source": [
    "potentials, params, masses, init_conf, box = enhanced.get_solvent_phase_system(\n",
    "    mol, forcefield\n",
    ")"
   ]
  },
  {
   "cell_type": "code",
   "execution_count": 12,
   "id": "09e86788-b4b1-458a-94a5-2b06bae8216b",
   "metadata": {},
   "outputs": [
    {
     "data": {
      "text/plain": [
       "(<timemachine.lib.potentials.HarmonicBond at 0x7f8d0384bc10>,\n",
       " <timemachine.lib.potentials.HarmonicAngle at 0x7f8d0384bb80>,\n",
       " <timemachine.lib.potentials.PeriodicTorsion at 0x7f8d0384b9d0>,\n",
       " <timemachine.lib.potentials.Nonbonded at 0x7f8ce87a7430>)"
      ]
     },
     "execution_count": 12,
     "metadata": {},
     "output_type": "execute_result"
    }
   ],
   "source": [
    "potentials"
   ]
  },
  {
   "cell_type": "markdown",
   "id": "44312da3-9f04-4d8d-b9df-d9654046c7ee",
   "metadata": {},
   "source": [
    "## Set up alchemical transformation\n",
    "\n",
    "We use a pre-optimized protocol for the solvent leg (see [PR](https://github.com/proteneer/timemachine/pull/538) for details)"
   ]
  },
  {
   "cell_type": "code",
   "execution_count": 13,
   "id": "79b049d9-d972-4622-9ff0-000c13e57137",
   "metadata": {},
   "outputs": [],
   "source": [
    "from timemachine.fe.lambda_schedule import (\n",
    "    construct_pre_optimized_absolute_lambda_schedule_solvent,\n",
    ")"
   ]
  },
  {
   "cell_type": "code",
   "execution_count": 14,
   "id": "9a163c3e-0105-4e60-8d8f-cfa87969c38b",
   "metadata": {},
   "outputs": [
    {
     "data": {
      "text/plain": [
       "1.0"
      ]
     },
     "execution_count": 14,
     "metadata": {},
     "output_type": "execute_result"
    }
   ],
   "source": [
    "n_windows = 16\n",
    "lambdas = construct_pre_optimized_absolute_lambda_schedule_solvent(n_windows)\n",
    "\n",
    "# Note: by timemachine convention, lambda=1 means \"decoupled\", lambda=0 means \"coupled\"\n",
    "lambdas = lambdas[::-1]\n",
    "lambdas[0]"
   ]
  },
  {
   "cell_type": "code",
   "execution_count": 15,
   "id": "d210b51a-fe14-4813-8791-ff2ec98243ee",
   "metadata": {},
   "outputs": [],
   "source": [
    "for U, p in zip(potentials, params):\n",
    "    U.bind(p)"
   ]
  },
  {
   "cell_type": "code",
   "execution_count": 16,
   "id": "27d425ad-8e8e-4346-9f05-1f603ca9aee0",
   "metadata": {},
   "outputs": [],
   "source": [
    "from timemachine.constants import DEFAULT_TEMP"
   ]
  },
  {
   "cell_type": "code",
   "execution_count": 17,
   "id": "715c2900-1a3d-4fed-80b1-28c53101cb66",
   "metadata": {},
   "outputs": [
    {
     "data": {
      "text/plain": [
       "300"
      ]
     },
     "execution_count": 17,
     "metadata": {},
     "output_type": "execute_result"
    }
   ],
   "source": [
    "temperature = DEFAULT_TEMP\n",
    "temperature"
   ]
  },
  {
   "cell_type": "code",
   "execution_count": 18,
   "id": "30369388-3e73-4f10-b4d6-fcbeda6bef36",
   "metadata": {},
   "outputs": [],
   "source": [
    "from timemachine.md import moves\n",
    "\n",
    "# maintain constant pressure and temperature\n",
    "npt_mover = moves.NPTMove(\n",
    "    potentials,\n",
    "    None,\n",
    "    masses,\n",
    "    temperature,\n",
    "    pressure=1.0,\n",
    "    n_steps=1000,  # number of MD steps per NPT move\n",
    "    seed=123,\n",
    ")"
   ]
  },
  {
   "cell_type": "code",
   "execution_count": 19,
   "id": "267c4b7e-a841-4216-b120-992dba1d22dc",
   "metadata": {},
   "outputs": [],
   "source": [
    "from timemachine.md.states import CoordsVelBox"
   ]
  },
  {
   "cell_type": "code",
   "execution_count": 20,
   "id": "7e5ed80a-11c3-4750-8768-ced06236c468",
   "metadata": {},
   "outputs": [
    {
     "data": {
      "text/plain": [
       "timemachine.md.states.CoordsVelBox"
      ]
     },
     "execution_count": 20,
     "metadata": {},
     "output_type": "execute_result"
    }
   ],
   "source": [
    "xvb_0 = CoordsVelBox(init_conf, np.zeros_like(init_conf), box)\n",
    "type(xvb_0)"
   ]
  },
  {
   "cell_type": "code",
   "execution_count": 21,
   "id": "1bbcd4e0-4b3e-45e2-a027-02389f16a11e",
   "metadata": {},
   "outputs": [
    {
     "data": {
      "text/plain": [
       "(2673, 3)"
      ]
     },
     "execution_count": 21,
     "metadata": {},
     "output_type": "execute_result"
    }
   ],
   "source": [
    "xvb_0.coords.shape"
   ]
  },
  {
   "cell_type": "code",
   "execution_count": 22,
   "id": "b8afedf9-61c5-46da-866e-f70fcdca93bf",
   "metadata": {},
   "outputs": [],
   "source": [
    "def propagate(xvb, lam):\n",
    "    \"Returns updated coordinates, velocity, and box after a single NPT move\"\n",
    "    npt_mover.lamb = lam\n",
    "    xvb_next = npt_mover.move(xvb)\n",
    "    return xvb_next"
   ]
  },
  {
   "cell_type": "code",
   "execution_count": 23,
   "id": "dd0e5b99-531e-4112-b3ac-cf1ccc63b3d4",
   "metadata": {},
   "outputs": [
    {
     "data": {
      "text/plain": [
       "timemachine.md.states.CoordsVelBox"
      ]
     },
     "execution_count": 23,
     "metadata": {},
     "output_type": "execute_result"
    }
   ],
   "source": [
    "type(propagate(xvb_0, lambdas[0]))"
   ]
  },
  {
   "cell_type": "code",
   "execution_count": 24,
   "id": "ef47e2d6-f560-4780-bf00-86295e086dbb",
   "metadata": {},
   "outputs": [],
   "source": [
    "def sample(xvb, lam, n_samples):\n",
    "    for _ in range(n_samples):\n",
    "        xvb = propagate(xvb, lam)\n",
    "        yield xvb"
   ]
  },
  {
   "cell_type": "code",
   "execution_count": 25,
   "id": "f84dc92e-405e-4de4-b7d4-6be5d7021523",
   "metadata": {},
   "outputs": [],
   "source": [
    "from tqdm import tqdm  # for progress bar"
   ]
  },
  {
   "cell_type": "code",
   "execution_count": 26,
   "id": "9bea884b-4cea-4e0a-83cf-248363f6694b",
   "metadata": {},
   "outputs": [
    {
     "name": "stderr",
     "output_type": "stream",
     "text": [
      "100%|██████████████████████████████████████████████████████████████████████████████| 16/16 [20:01<00:00, 75.12s/it]\n"
     ]
    }
   ],
   "source": [
    "n_samples = 100\n",
    "burn_in_samples = 10  # number of initial samples to discard\n",
    "xvb_kn = [\n",
    "    list(sample(xvb_0, lam, n_samples + burn_in_samples))[burn_in_samples:]\n",
    "    for lam in tqdm(lambdas)\n",
    "]"
   ]
  },
  {
   "cell_type": "code",
   "execution_count": 27,
   "id": "bb233699-01c1-4876-ab36-2ba373e2b4ad",
   "metadata": {},
   "outputs": [],
   "source": [
    "conf_kn = np.array([[xvb.coords for xvb in xvb_n] for xvb_n in xvb_kn])\n",
    "box_kn = np.array([[xvb.box for xvb in xvb_n] for xvb_n in xvb_kn])"
   ]
  },
  {
   "cell_type": "code",
   "execution_count": 28,
   "id": "0a9a9ec0-721a-4796-91a5-a5c8821beb85",
   "metadata": {},
   "outputs": [
    {
     "data": {
      "text/plain": [
       "(16, 100, 2673, 3)"
      ]
     },
     "execution_count": 28,
     "metadata": {},
     "output_type": "execute_result"
    }
   ],
   "source": [
    "conf_kn.shape  # (state, sample, atom, xyz)"
   ]
  },
  {
   "cell_type": "code",
   "execution_count": 29,
   "id": "9aea5aa8-f71b-4ec9-b258-16fcfeffea58",
   "metadata": {},
   "outputs": [],
   "source": [
    "# (coords, box) for every state and sample\n",
    "xb_kn = [[(xvb.coords, xvb.box) for xvb in xvb_n] for xvb_n in xvb_kn]"
   ]
  },
  {
   "cell_type": "markdown",
   "id": "840972bc-b759-4f8f-ae4d-34e46e1c3752",
   "metadata": {},
   "source": [
    "## $\\Delta G$ calculation\n",
    "\n",
    "Here we sum the pair BAR $\\Delta g$s for each neighboring pair of windows (could also use MBAR)"
   ]
  },
  {
   "cell_type": "code",
   "execution_count": 30,
   "id": "7870a5b0-f27d-4c3b-9014-83974ba9ca29",
   "metadata": {},
   "outputs": [],
   "source": [
    "from timemachine.constants import BOLTZ\n",
    "from timemachine.fe.functional import construct_differentiable_interface_fast"
   ]
  },
  {
   "cell_type": "code",
   "execution_count": 31,
   "id": "041d2fde-d69e-47f3-9577-a3130b0b1b8b",
   "metadata": {},
   "outputs": [],
   "source": [
    "# construct a differentiable function returning the total energy\n",
    "U_fn = construct_differentiable_interface_fast(potentials, params)"
   ]
  },
  {
   "cell_type": "code",
   "execution_count": 32,
   "id": "6dd6633e-1a8b-429e-8739-f9ae4e8c478d",
   "metadata": {},
   "outputs": [],
   "source": [
    "def reduced_potential(lam, xb):\n",
    "    \"Potential in units of k_B T\"\n",
    "    conf, box = xb\n",
    "    return U_fn(conf, params, box, lam) / (BOLTZ * temperature)\n",
    "\n",
    "\n",
    "def reduced_potential_n(lam, xbs):\n",
    "    \"Computes reduced potentials for a batch of n samples\"\n",
    "    return np.array([reduced_potential(lam, xb) for xb in xbs])"
   ]
  },
  {
   "cell_type": "code",
   "execution_count": 33,
   "id": "0fd61336-ec70-46b6-8e0e-800a8ff8db5c",
   "metadata": {},
   "outputs": [],
   "source": [
    "from timemachine.fe.bar import bar_with_bootstrapped_uncertainty\n",
    "\n",
    "\n",
    "def pair_BAR(lam0, xb0, lam1, xb1):\n",
    "    \"Compute the BAR-estimated dg (in reduced units) between a pair of states\"\n",
    "    u0 = partial(reduced_potential_n, lam0)\n",
    "    u1 = partial(reduced_potential_n, lam1)\n",
    "    w_F = u1(xb0) - u0(xb0)\n",
    "    w_R = u0(xb1) - u1(xb1)\n",
    "    return bar_with_bootstrapped_uncertainty(w_F, w_R)"
   ]
  },
  {
   "cell_type": "code",
   "execution_count": 34,
   "id": "316b7629-f1aa-43a8-9dcb-ebc230327a16",
   "metadata": {},
   "outputs": [],
   "source": [
    "from timemachine.constants import KCAL_TO_KJ\n",
    "\n",
    "pairs = list(zip(lambdas, xb_kn))  # (window, samples) pairs\n",
    "\n",
    "\n",
    "kT = BOLTZ * temperature\n",
    "\n",
    "dg_estimates = np.array(\n",
    "    [\n",
    "        pair_BAR(lam0, xb0, lam1, xb1)\n",
    "        for (lam0, xb0), (lam1, xb1) in zip(pairs, pairs[1:])\n",
    "    ]\n",
    ")\n",
    "\n",
    "dG_estimates = dg_estimates * kT / KCAL_TO_KJ\n",
    "dGs, dG_errs = dG_estimates.T"
   ]
  },
  {
   "cell_type": "code",
   "execution_count": 35,
   "id": "94f32075-f6a9-4558-b1d7-d21c4326df16",
   "metadata": {},
   "outputs": [
    {
     "data": {
      "text/plain": [
       "(-0.3054601799857739, 0.18696926158656535)"
      ]
     },
     "execution_count": 35,
     "metadata": {},
     "output_type": "execute_result"
    }
   ],
   "source": [
    "dG, dG_err = np.array([np.sum(dGs), np.linalg.norm(dG_errs)])\n",
    "dG, dG_err"
   ]
  },
  {
   "cell_type": "code",
   "execution_count": 36,
   "id": "195d2d9b-e650-49ed-97fe-6859879cdb8b",
   "metadata": {},
   "outputs": [
    {
     "data": {
      "text/plain": [
       "('-0.9', '0.2')"
      ]
     },
     "execution_count": 36,
     "metadata": {},
     "output_type": "execute_result"
    }
   ],
   "source": [
    "mol.GetProp(\"dG\"), mol.GetProp(\"dG_err\")"
   ]
  },
  {
   "cell_type": "code",
   "execution_count": 37,
   "id": "da2c9629-11db-4185-b82b-5ac768498046",
   "metadata": {},
   "outputs": [
    {
     "data": {
      "image/png": "[encoded data removed]",
      "text/plain": [
       "<Figure size 640x480 with 1 Axes>"
      ]
     },
     "metadata": {
      "image/png": {
       "height": 413,
       "width": 567
      }
     },
     "output_type": "display_data"
    }
   ],
   "source": [
    "import matplotlib.pyplot as plt\n",
    "\n",
    "plt.errorbar(lambdas[:-1], dGs, dG_errs)\n",
    "plt.ylabel(r\"pair BAR $\\Delta G$ (kcal/mol)\");"
   ]
  },
  {
   "cell_type": "markdown",
   "id": "c103a6dc-9b77-4841-a458-d8b0247453be",
   "metadata": {},
   "source": [
    "## Compute BAR overlaps\n",
    "\n",
    "Useful for diagnosing issues with poor overlap between neighboring windows (especially in cases where BAR error is NaN)"
   ]
  },
  {
   "cell_type": "code",
   "execution_count": 38,
   "id": "c521e1f6-ecba-415b-b77c-3e9d3cde5dbf",
   "metadata": {},
   "outputs": [],
   "source": [
    "import pymbar\n",
    "\n",
    "\n",
    "def pair_overlap(lam0, xb0, lam1, xb1):\n",
    "    \"Compute the MBAR overlap between a pair of states\"\n",
    "    u0 = partial(reduced_potential_n, lam0)\n",
    "    u1 = partial(reduced_potential_n, lam1)\n",
    "    u_kn = [\n",
    "        np.concatenate([u0(xb0), u0(xb1)]),\n",
    "        np.concatenate([u1(xb0), u1(xb1)]),\n",
    "    ]\n",
    "    N_k = [len(xb0), len(xb1)]\n",
    "    mbar = pymbar.MBAR(u_kn, N_k)\n",
    "    return 2.0 * mbar.computeOverlap()[\"matrix\"][0, 1]"
   ]
  },
  {
   "cell_type": "code",
   "execution_count": 39,
   "id": "82e7be81-2fe5-4e3e-85aa-e5a456b9b4ce",
   "metadata": {},
   "outputs": [],
   "source": [
    "overlaps = [\n",
    "    pair_overlap(lam0, xb0, lam1, xb1)\n",
    "    for (lam0, xb0), (lam1, xb1) in zip(pairs, pairs[1:])\n",
    "]"
   ]
  },
  {
   "cell_type": "code",
   "execution_count": 40,
   "id": "18f5cda7-4637-448c-9e4b-d778992c9e0c",
   "metadata": {},
   "outputs": [
    {
     "data": {
      "image/png": "[encoded data removed]",
      "text/plain": [
       "<Figure size 640x480 with 1 Axes>"
      ]
     },
     "metadata": {
      "image/png": {
       "height": 432,
       "width": 567
      }
     },
     "output_type": "display_data"
    }
   ],
   "source": [
    "plt.plot(lambdas[:-1], overlaps, \".-\")\n",
    "plt.ylim(-0.05, 1.05)\n",
    "for y in [0, 1]:\n",
    "    plt.axhline(y, color=\"gray\", ls=\"--\")\n",
    "plt.xlabel(r\"$\\lambda$\")\n",
    "plt.ylabel(\"pair BAR overlap\");"
   ]
  },
  {
   "cell_type": "code",
   "execution_count": null,
   "id": "e7250360-6002-4762-8583-deeac686034f",
   "metadata": {},
   "outputs": [],
   "source": []
  }
 ],
 "metadata": {
  "kernelspec": {
   "display_name": "Python 3 (ipykernel)",
   "language": "python",
   "name": "python3"
  },
  "language_info": {
   "codemirror_mode": {
    "name": "ipython",
    "version": 3
   },
   "file_extension": ".py",
   "mimetype": "text/x-python",
   "name": "python",
   "nbconvert_exporter": "python",
   "pygments_lexer": "ipython3",
   "version": "3.10.7"
  }
 },
 "nbformat": 4,
 "nbformat_minor": 5
}
