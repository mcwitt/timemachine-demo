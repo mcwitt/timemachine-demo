{
 "cells": [
  {
   "cell_type": "code",
   "execution_count": 1,
   "id": "5b065282-5ece-4391-be82-469afc29b05b",
   "metadata": {},
   "outputs": [],
   "source": [
    "%config InlineBackend.figure_format = \"retina\""
   ]
  },
  {
   "cell_type": "code",
   "execution_count": 2,
   "id": "014a5919-7379-4df6-803c-79cc9cd85e48",
   "metadata": {},
   "outputs": [
    {
     "data": {
      "text/html": [
       "\n",
       "                <script type=\"application/javascript\" id=\"jupyter_black\">\n",
       "                (function() {\n",
       "                    if (window.IPython === undefined) {\n",
       "                        return\n",
       "                    }\n",
       "                    var msg = \"WARNING: it looks like you might have loaded \" +\n",
       "                        \"jupyter_black in a non-lab notebook with \" +\n",
       "                        \"`is_lab=True`. Please double check, and if \" +\n",
       "                        \"loading with `%load_ext` please review the README!\"\n",
       "                    console.log(msg)\n",
       "                    alert(msg)\n",
       "                })()\n",
       "                </script>\n",
       "                "
      ],
      "text/plain": [
       "<IPython.core.display.HTML object>"
      ]
     },
     "metadata": {},
     "output_type": "display_data"
    }
   ],
   "source": [
    "import jupyter_black\n",
    "\n",
    "jupyter_black.load()"
   ]
  },
  {
   "cell_type": "markdown",
   "id": "eab69f04-068a-4d7e-b1a8-bb49be509310",
   "metadata": {},
   "source": [
    "# Absolute hydration free energy"
   ]
  },
  {
   "cell_type": "code",
   "execution_count": 3,
   "id": "aec527fd-cbf8-4777-a00b-5a7b6efce219",
   "metadata": {},
   "outputs": [],
   "source": [
    "import rdkit.Chem.Draw.IPythonConsole\n",
    "\n",
    "rdkit.Chem.Draw.IPythonConsole.ipython_3d = True"
   ]
  },
  {
   "cell_type": "code",
   "execution_count": 4,
   "id": "1e8a67c4-8ae7-4642-937b-bff2286c08a3",
   "metadata": {},
   "outputs": [],
   "source": [
    "from functools import partial\n",
    "\n",
    "import numpy as np"
   ]
  },
  {
   "cell_type": "markdown",
   "id": "575805bf-aa99-4e32-b1a1-8c3b51d046e8",
   "metadata": {},
   "source": [
    "## Set up test system"
   ]
  },
  {
   "cell_type": "code",
   "execution_count": 5,
   "id": "f007522d-215c-4a17-9b1a-a63c8200b5b9",
   "metadata": {},
   "outputs": [],
   "source": [
    "from timemachine.datasets import fetch_freesolv\n",
    "from timemachine.fe.utils import get_mol_name"
   ]
  },
  {
   "cell_type": "code",
   "execution_count": 6,
   "id": "2bb490c9-cfaf-4266-acf2-db769475a3da",
   "metadata": {},
   "outputs": [
    {
     "name": "stderr",
     "output_type": "stream",
     "text": [
      "[08:12:42] Warning: molecule is tagged as 3D, but all Z coords are zero\n"
     ]
    }
   ],
   "source": [
    "mols = {get_mol_name(mol): mol for mol in fetch_freesolv()}"
   ]
  },
  {
   "cell_type": "code",
   "execution_count": 7,
   "id": "d0a9f4c9-bea3-4005-b634-8eeedd28efd2",
   "metadata": {},
   "outputs": [
    {
     "data": {
      "application/3dmoljs_load.v0": "<div id=\"3dmolviewer_166446436269402\"  style=\"position: relative; width: 400px; height: 400px\">\n        <p id=\"3dmolwarning_166446436269402\" style=\"background-color:#ffcccc;color:black\">You appear to be running in JupyterLab (or JavaScript failed to load for some other reason).  You need to install the 3dmol extension: <br>\n        <tt>jupyter labextension install jupyterlab_3dmol</tt></p>\n        </div>\n<script>\n\nvar loadScriptAsync = function(uri){\n  return new Promise((resolve, reject) => {\n    var tag = document.createElement('script');\n    tag.src = uri;\n    tag.async = true;\n    tag.onload = () => {\n      resolve();\n    };\n  var firstScriptTag = document.getElementsByTagName('script')[0];\n  firstScriptTag.parentNode.insertBefore(tag, firstScriptTag);\n});\n};\n\nif(typeof $3Dmolpromise === 'undefined') {\n$3Dmolpromise = null;\n  $3Dmolpromise = loadScriptAsync('https://cdn.jsdelivr.net/npm/3dmol@latest/build/3Dmol-min.min.js');\n}\n\nvar viewer_166446436269402 = null;\nvar warn = document.getElementById(\"3dmolwarning_166446436269402\");\nif(warn) {\n    warn.parentNode.removeChild(warn);\n}\n$3Dmolpromise.then(function() {\nviewer_166446436269402 = $3Dmol.createViewer($(\"#3dmolviewer_166446436269402\"),{backgroundColor:\"white\"});\nviewer_166446436269402.zoomTo();\n\tviewer_166446436269402.removeAllModels();\n\tviewer_166446436269402.addModel(\"mobley_3053621\\n     RDKit          3D\\n\\n 12 12  0  0  0  0  0  0  0  0999 V2000\\n   -1.0333   -0.9363    0.0320 C   0  0  0  0  0  0  0  0  0  0  0  0\\n    0.2946   -1.3631    0.0274 C   0  0  0  0  0  0  0  0  0  0  0  0\\n    1.3279   -0.4268   -0.0045 C   0  0  0  0  0  0  0  0  0  0  0  0\\n    1.0333    0.9363   -0.0319 C   0  0  0  0  0  0  0  0  0  0  0  0\\n   -0.2946    1.3631   -0.0274 C   0  0  0  0  0  0  0  0  0  0  0  0\\n   -1.3279    0.4268    0.0045 C   0  0  0  0  0  0  0  0  0  0  0  0\\n   -1.8384   -1.6658    0.0569 H   0  0  0  0  0  0  0  0  0  0  0  0\\n    0.5241   -2.4251    0.0488 H   0  0  0  0  0  0  0  0  0  0  0  0\\n    2.3625   -0.7592   -0.0081 H   0  0  0  0  0  0  0  0  0  0  0  0\\n    1.8384    1.6659   -0.0568 H   0  0  0  0  0  0  0  0  0  0  0  0\\n   -0.5241    2.4251   -0.0488 H   0  0  0  0  0  0  0  0  0  0  0  0\\n   -2.3625    0.7592    0.0080 H   0  0  0  0  0  0  0  0  0  0  0  0\\n  1  2  2  0\\n  2  3  1  0\\n  3  4  2  0\\n  4  5  1  0\\n  5  6  2  0\\n  6  1  1  0\\n  1  7  1  0\\n  2  8  1  0\\n  3  9  1  0\\n  4 10  1  0\\n  5 11  1  0\\n  6 12  1  0\\nM  END\\n\",\"sdf\");\n\tviewer_166446436269402.setStyle({\"stick\": {}});\n\tviewer_166446436269402.setBackgroundColor(\"0xeeeeee\");\n\tviewer_166446436269402.zoomTo();\nviewer_166446436269402.render();\n});\n</script>",
      "text/html": [
       "<div id=\"3dmolviewer_166446436269402\"  style=\"position: relative; width: 400px; height: 400px\">\n",
       "        <p id=\"3dmolwarning_166446436269402\" style=\"background-color:#ffcccc;color:black\">You appear to be running in JupyterLab (or JavaScript failed to load for some other reason).  You need to install the 3dmol extension: <br>\n",
       "        <tt>jupyter labextension install jupyterlab_3dmol</tt></p>\n",
       "        </div>\n",
       "<script>\n",
       "\n",
       "var loadScriptAsync = function(uri){\n",
       "  return new Promise((resolve, reject) => {\n",
       "    var tag = document.createElement('script');\n",
       "    tag.src = uri;\n",
       "    tag.async = true;\n",
       "    tag.onload = () => {\n",
       "      resolve();\n",
       "    };\n",
       "  var firstScriptTag = document.getElementsByTagName('script')[0];\n",
       "  firstScriptTag.parentNode.insertBefore(tag, firstScriptTag);\n",
       "});\n",
       "};\n",
       "\n",
       "if(typeof $3Dmolpromise === 'undefined') {\n",
       "$3Dmolpromise = null;\n",
       "  $3Dmolpromise = loadScriptAsync('https://cdn.jsdelivr.net/npm/3dmol@latest/build/3Dmol-min.min.js');\n",
       "}\n",
       "\n",
       "var viewer_166446436269402 = null;\n",
       "var warn = document.getElementById(\"3dmolwarning_166446436269402\");\n",
       "if(warn) {\n",
       "    warn.parentNode.removeChild(warn);\n",
       "}\n",
       "$3Dmolpromise.then(function() {\n",
       "viewer_166446436269402 = $3Dmol.createViewer($(\"#3dmolviewer_166446436269402\"),{backgroundColor:\"white\"});\n",
       "viewer_166446436269402.zoomTo();\n",
       "\tviewer_166446436269402.removeAllModels();\n",
       "\tviewer_166446436269402.addModel(\"mobley_3053621\\n     RDKit          3D\\n\\n 12 12  0  0  0  0  0  0  0  0999 V2000\\n   -1.0333   -0.9363    0.0320 C   0  0  0  0  0  0  0  0  0  0  0  0\\n    0.2946   -1.3631    0.0274 C   0  0  0  0  0  0  0  0  0  0  0  0\\n    1.3279   -0.4268   -0.0045 C   0  0  0  0  0  0  0  0  0  0  0  0\\n    1.0333    0.9363   -0.0319 C   0  0  0  0  0  0  0  0  0  0  0  0\\n   -0.2946    1.3631   -0.0274 C   0  0  0  0  0  0  0  0  0  0  0  0\\n   -1.3279    0.4268    0.0045 C   0  0  0  0  0  0  0  0  0  0  0  0\\n   -1.8384   -1.6658    0.0569 H   0  0  0  0  0  0  0  0  0  0  0  0\\n    0.5241   -2.4251    0.0488 H   0  0  0  0  0  0  0  0  0  0  0  0\\n    2.3625   -0.7592   -0.0081 H   0  0  0  0  0  0  0  0  0  0  0  0\\n    1.8384    1.6659   -0.0568 H   0  0  0  0  0  0  0  0  0  0  0  0\\n   -0.5241    2.4251   -0.0488 H   0  0  0  0  0  0  0  0  0  0  0  0\\n   -2.3625    0.7592    0.0080 H   0  0  0  0  0  0  0  0  0  0  0  0\\n  1  2  2  0\\n  2  3  1  0\\n  3  4  2  0\\n  4  5  1  0\\n  5  6  2  0\\n  6  1  1  0\\n  1  7  1  0\\n  2  8  1  0\\n  3  9  1  0\\n  4 10  1  0\\n  5 11  1  0\\n  6 12  1  0\\nM  END\\n\",\"sdf\");\n",
       "\tviewer_166446436269402.setStyle({\"stick\": {}});\n",
       "\tviewer_166446436269402.setBackgroundColor(\"0xeeeeee\");\n",
       "\tviewer_166446436269402.zoomTo();\n",
       "viewer_166446436269402.render();\n",
       "});\n",
       "</script>"
      ]
     },
     "metadata": {},
     "output_type": "display_data"
    },
    {
     "data": {
      "image/png": "[encoded data removed]",
      "text/html": [],
      "text/plain": [
       "<rdkit.Chem.rdchem.Mol at 0x7f5ba0fe3610>"
      ]
     },
     "execution_count": 7,
     "metadata": {},
     "output_type": "execute_result"
    }
   ],
   "source": [
    "mol = mols[\"mobley_3053621\"]\n",
    "mol"
   ]
  },
  {
   "cell_type": "markdown",
   "id": "c0a67b16-e871-4779-90dd-86cc460a99f2",
   "metadata": {},
   "source": [
    "### Parameterize solvent phase system"
   ]
  },
  {
   "cell_type": "code",
   "execution_count": 8,
   "id": "c97ec877-412f-4420-8b3f-2918f6db2fe8",
   "metadata": {},
   "outputs": [],
   "source": [
    "from timemachine.constants import DEFAULT_FF\n",
    "from timemachine.ff import Forcefield"
   ]
  },
  {
   "cell_type": "code",
   "execution_count": 9,
   "id": "3822a0ed-f8b2-4da1-96f0-8e571bf5fde1",
   "metadata": {},
   "outputs": [],
   "source": [
    "forcefield = Forcefield.load_from_file(DEFAULT_FF)"
   ]
  },
  {
   "cell_type": "code",
   "execution_count": 10,
   "id": "ad322f35-bd19-4c84-8bf7-4cb73b70ca8d",
   "metadata": {},
   "outputs": [
    {
     "name": "stderr",
     "output_type": "stream",
     "text": [
      "WARNING:root:Warning: importing 'simtk.openmm' is deprecated.  Import 'openmm' instead.\n"
     ]
    }
   ],
   "source": [
    "from timemachine.md import enhanced"
   ]
  },
  {
   "cell_type": "code",
   "execution_count": 11,
   "id": "d65b4a1a-cdc4-49f0-99e8-184391bad971",
   "metadata": {},
   "outputs": [
    {
     "name": "stderr",
     "output_type": "stream",
     "text": [
      "WARNING:absl:No GPU/TPU found, falling back to CPU. (Set TF_CPP_MIN_LOG_LEVEL=0 and rerun for more info.)\n"
     ]
    }
   ],
   "source": [
    "potentials, params, masses, init_conf, box = enhanced.get_solvent_phase_system(\n",
    "    mol, forcefield\n",
    ")"
   ]
  },
  {
   "cell_type": "code",
   "execution_count": 12,
   "id": "09e86788-b4b1-458a-94a5-2b06bae8216b",
   "metadata": {},
   "outputs": [
    {
     "data": {
      "text/plain": [
       "[<timemachine.lib.potentials.HarmonicBond at 0x7f5b70c13e20>,\n",
       " <timemachine.lib.potentials.HarmonicAngle at 0x7f5b70c13c10>,\n",
       " <timemachine.lib.potentials.PeriodicTorsion at 0x7f5b70c13b50>,\n",
       " <timemachine.lib.potentials.Nonbonded at 0x7f5b70d73e50>]"
      ]
     },
     "execution_count": 12,
     "metadata": {},
     "output_type": "execute_result"
    }
   ],
   "source": [
    "potentials"
   ]
  },
  {
   "cell_type": "markdown",
   "id": "44312da3-9f04-4d8d-b9df-d9654046c7ee",
   "metadata": {},
   "source": [
    "## Set up alchemical transformation\n",
    "\n",
    "We use a pre-optimized protocol for the solvent leg (see [PR](https://github.com/proteneer/timemachine/pull/538) for details)"
   ]
  },
  {
   "cell_type": "code",
   "execution_count": 13,
   "id": "79b049d9-d972-4622-9ff0-000c13e57137",
   "metadata": {},
   "outputs": [],
   "source": [
    "from timemachine.fe.lambda_schedule import (\n",
    "    construct_pre_optimized_absolute_lambda_schedule_solvent,\n",
    ")"
   ]
  },
  {
   "cell_type": "code",
   "execution_count": 14,
   "id": "9a163c3e-0105-4e60-8d8f-cfa87969c38b",
   "metadata": {},
   "outputs": [
    {
     "data": {
      "text/plain": [
       "1.0"
      ]
     },
     "execution_count": 14,
     "metadata": {},
     "output_type": "execute_result"
    }
   ],
   "source": [
    "n_windows = 16\n",
    "lambdas = construct_pre_optimized_absolute_lambda_schedule_solvent(n_windows)\n",
    "\n",
    "# Note: by timemachine convention, lambda=1 means \"decoupled\", lambda=0 means \"coupled\"\n",
    "lambdas = lambdas[::-1]\n",
    "lambdas[0]"
   ]
  },
  {
   "cell_type": "code",
   "execution_count": 15,
   "id": "d210b51a-fe14-4813-8791-ff2ec98243ee",
   "metadata": {},
   "outputs": [],
   "source": [
    "for U, p in zip(potentials, params):\n",
    "    U.bind(p)"
   ]
  },
  {
   "cell_type": "code",
   "execution_count": 16,
   "id": "27d425ad-8e8e-4346-9f05-1f603ca9aee0",
   "metadata": {},
   "outputs": [],
   "source": [
    "from timemachine.constants import DEFAULT_TEMP"
   ]
  },
  {
   "cell_type": "code",
   "execution_count": 17,
   "id": "715c2900-1a3d-4fed-80b1-28c53101cb66",
   "metadata": {},
   "outputs": [
    {
     "data": {
      "text/plain": [
       "300"
      ]
     },
     "execution_count": 17,
     "metadata": {},
     "output_type": "execute_result"
    }
   ],
   "source": [
    "temperature = DEFAULT_TEMP\n",
    "temperature"
   ]
  },
  {
   "cell_type": "code",
   "execution_count": 18,
   "id": "30369388-3e73-4f10-b4d6-fcbeda6bef36",
   "metadata": {},
   "outputs": [],
   "source": [
    "from timemachine.md import moves\n",
    "\n",
    "# maintain constant pressure and temperature\n",
    "npt_mover = moves.NPTMove(\n",
    "    potentials,\n",
    "    None,\n",
    "    masses,\n",
    "    temperature,\n",
    "    pressure=1.0,\n",
    "    n_steps=1000,  # number of MD steps per NPT move\n",
    "    seed=123,\n",
    ")"
   ]
  },
  {
   "cell_type": "code",
   "execution_count": 19,
   "id": "267c4b7e-a841-4216-b120-992dba1d22dc",
   "metadata": {},
   "outputs": [],
   "source": [
    "from timemachine.md.states import CoordsVelBox"
   ]
  },
  {
   "cell_type": "code",
   "execution_count": 20,
   "id": "7e5ed80a-11c3-4750-8768-ced06236c468",
   "metadata": {},
   "outputs": [
    {
     "data": {
      "text/plain": [
       "timemachine.md.states.CoordsVelBox"
      ]
     },
     "execution_count": 20,
     "metadata": {},
     "output_type": "execute_result"
    }
   ],
   "source": [
    "xvb_0 = CoordsVelBox(init_conf, np.zeros_like(init_conf), box)\n",
    "type(xvb_0)"
   ]
  },
  {
   "cell_type": "code",
   "execution_count": 21,
   "id": "1bbcd4e0-4b3e-45e2-a027-02389f16a11e",
   "metadata": {},
   "outputs": [
    {
     "data": {
      "text/plain": [
       "(2673, 3)"
      ]
     },
     "execution_count": 21,
     "metadata": {},
     "output_type": "execute_result"
    }
   ],
   "source": [
    "xvb_0.coords.shape"
   ]
  },
  {
   "cell_type": "code",
   "execution_count": 22,
   "id": "b8afedf9-61c5-46da-866e-f70fcdca93bf",
   "metadata": {},
   "outputs": [],
   "source": [
    "def propagate(xvb, lam):\n",
    "    \"Returns updated coordinates, velocity, and box after a single NPT move\"\n",
    "    npt_mover.lamb = lam\n",
    "    xvb_next = npt_mover.move(xvb)\n",
    "    return xvb_next"
   ]
  },
  {
   "cell_type": "code",
   "execution_count": 23,
   "id": "dd0e5b99-531e-4112-b3ac-cf1ccc63b3d4",
   "metadata": {},
   "outputs": [
    {
     "data": {
      "text/plain": [
       "timemachine.md.states.CoordsVelBox"
      ]
     },
     "execution_count": 23,
     "metadata": {},
     "output_type": "execute_result"
    }
   ],
   "source": [
    "type(propagate(xvb_0, lambdas[0]))"
   ]
  },
  {
   "cell_type": "code",
   "execution_count": 24,
   "id": "ef47e2d6-f560-4780-bf00-86295e086dbb",
   "metadata": {},
   "outputs": [],
   "source": [
    "def sample(xvb, lam, n_samples):\n",
    "    for _ in range(n_samples):\n",
    "        xvb = propagate(xvb, lam)\n",
    "        yield xvb"
   ]
  },
  {
   "cell_type": "code",
   "execution_count": 25,
   "id": "f84dc92e-405e-4de4-b7d4-6be5d7021523",
   "metadata": {},
   "outputs": [],
   "source": [
    "from tqdm import tqdm  # for progress bar"
   ]
  },
  {
   "cell_type": "code",
   "execution_count": 26,
   "id": "9bea884b-4cea-4e0a-83cf-248363f6694b",
   "metadata": {},
   "outputs": [
    {
     "name": "stderr",
     "output_type": "stream",
     "text": [
      "100%|████████████████████████████████████████████████████████████████████████████████████████████████████████████████████████████████████████████████████████████████████████████████████████████████████████████████████████████████████████████████████████████████| 16/16 [08:45<00:00, 32.82s/it]\n"
     ]
    }
   ],
   "source": [
    "n_samples = 100\n",
    "burn_in_samples = 10  # number of initial samples to discard\n",
    "xvb_kn = [\n",
    "    list(sample(xvb_0, lam, n_samples + burn_in_samples))[burn_in_samples:]\n",
    "    for lam in tqdm(lambdas)\n",
    "]"
   ]
  },
  {
   "cell_type": "code",
   "execution_count": 27,
   "id": "bb233699-01c1-4876-ab36-2ba373e2b4ad",
   "metadata": {},
   "outputs": [],
   "source": [
    "conf_kn = np.array([[xvb.coords for xvb in xvb_n] for xvb_n in xvb_kn])\n",
    "box_kn = np.array([[xvb.box for xvb in xvb_n] for xvb_n in xvb_kn])"
   ]
  },
  {
   "cell_type": "code",
   "execution_count": 28,
   "id": "0a9a9ec0-721a-4796-91a5-a5c8821beb85",
   "metadata": {},
   "outputs": [
    {
     "data": {
      "text/plain": [
       "(16, 100, 2673, 3)"
      ]
     },
     "execution_count": 28,
     "metadata": {},
     "output_type": "execute_result"
    }
   ],
   "source": [
    "conf_kn.shape  # (state, sample, atom, xyz)"
   ]
  },
  {
   "cell_type": "code",
   "execution_count": 29,
   "id": "9aea5aa8-f71b-4ec9-b258-16fcfeffea58",
   "metadata": {},
   "outputs": [],
   "source": [
    "# (coords, box) for every state and sample\n",
    "xb_kn = [[(xvb.coords, xvb.box) for xvb in xvb_n] for xvb_n in xvb_kn]"
   ]
  },
  {
   "cell_type": "markdown",
   "id": "840972bc-b759-4f8f-ae4d-34e46e1c3752",
   "metadata": {},
   "source": [
    "## $\\Delta G$ calculation\n",
    "\n",
    "Here we sum the pair BAR $\\Delta g$s for each neighboring pair of windows (could also use MBAR)"
   ]
  },
  {
   "cell_type": "code",
   "execution_count": 30,
   "id": "7870a5b0-f27d-4c3b-9014-83974ba9ca29",
   "metadata": {},
   "outputs": [],
   "source": [
    "from timemachine.constants import BOLTZ\n",
    "from timemachine.fe.functional import construct_differentiable_interface_fast"
   ]
  },
  {
   "cell_type": "code",
   "execution_count": 31,
   "id": "041d2fde-d69e-47f3-9577-a3130b0b1b8b",
   "metadata": {},
   "outputs": [],
   "source": [
    "# construct a differentiable function returning the total energy\n",
    "U_fn = construct_differentiable_interface_fast(potentials, params)"
   ]
  },
  {
   "cell_type": "code",
   "execution_count": 32,
   "id": "6dd6633e-1a8b-429e-8739-f9ae4e8c478d",
   "metadata": {},
   "outputs": [],
   "source": [
    "def reduced_potential(lam, xb):\n",
    "    \"Potential in units of k_B T\"\n",
    "    conf, box = xb\n",
    "    return U_fn(conf, params, box, lam) / (BOLTZ * temperature)\n",
    "\n",
    "\n",
    "def reduced_potential_n(lam, xbs):\n",
    "    \"Computes reduced potentials for a batch of n samples\"\n",
    "    return np.array([reduced_potential(lam, xb) for xb in xbs])"
   ]
  },
  {
   "cell_type": "code",
   "execution_count": 33,
   "id": "0fd61336-ec70-46b6-8e0e-800a8ff8db5c",
   "metadata": {},
   "outputs": [],
   "source": [
    "from timemachine.fe.bar import bar_with_bootstrapped_uncertainty\n",
    "\n",
    "\n",
    "def pair_BAR(lam0, xb0, lam1, xb1):\n",
    "    \"Compute the BAR-estimated dg (in reduced units) between a pair of states\"\n",
    "    u0 = partial(reduced_potential_n, lam0)\n",
    "    u1 = partial(reduced_potential_n, lam1)\n",
    "    w_F = u1(xb0) - u0(xb0)\n",
    "    w_R = u0(xb1) - u1(xb1)\n",
    "    return bar_with_bootstrapped_uncertainty(w_F, w_R)"
   ]
  },
  {
   "cell_type": "code",
   "execution_count": 34,
   "id": "316b7629-f1aa-43a8-9dcb-ebc230327a16",
   "metadata": {},
   "outputs": [],
   "source": [
    "from timemachine.constants import KCAL_TO_KJ\n",
    "\n",
    "pairs = list(zip(lambdas, xb_kn))  # (window, samples) pairs\n",
    "\n",
    "\n",
    "kT = BOLTZ * temperature\n",
    "\n",
    "dg_estimates = np.array(\n",
    "    [\n",
    "        pair_BAR(lam0, xb0, lam1, xb1)\n",
    "        for (lam0, xb0), (lam1, xb1) in zip(pairs, pairs[1:])\n",
    "    ]\n",
    ")\n",
    "\n",
    "dG_estimates = dg_estimates * kT / KCAL_TO_KJ\n",
    "dGs, dG_errs = dG_estimates.T"
   ]
  },
  {
   "cell_type": "code",
   "execution_count": 35,
   "id": "94f32075-f6a9-4558-b1d7-d21c4326df16",
   "metadata": {},
   "outputs": [
    {
     "data": {
      "text/plain": [
       "(-0.20889589743093084, 0.19561336803755572)"
      ]
     },
     "execution_count": 35,
     "metadata": {},
     "output_type": "execute_result"
    }
   ],
   "source": [
    "dG, dG_err = np.array([np.sum(dGs), np.linalg.norm(dG_errs)])\n",
    "dG, dG_err"
   ]
  },
  {
   "cell_type": "code",
   "execution_count": 36,
   "id": "195d2d9b-e650-49ed-97fe-6859879cdb8b",
   "metadata": {},
   "outputs": [
    {
     "data": {
      "text/plain": [
       "('-0.9', '0.2')"
      ]
     },
     "execution_count": 36,
     "metadata": {},
     "output_type": "execute_result"
    }
   ],
   "source": [
    "mol.GetProp(\"dG\"), mol.GetProp(\"dG_err\")"
   ]
  },
  {
   "cell_type": "code",
   "execution_count": 37,
   "id": "da2c9629-11db-4185-b82b-5ac768498046",
   "metadata": {},
   "outputs": [
    {
     "data": {
      "image/png": "[encoded data removed]",
      "text/plain": [
       "<Figure size 432x288 with 1 Axes>"
      ]
     },
     "metadata": {
      "image/png": {
       "height": 248,
       "width": 386
      },
      "needs_background": "light"
     },
     "output_type": "display_data"
    }
   ],
   "source": [
    "import matplotlib.pyplot as plt\n",
    "\n",
    "plt.errorbar(lambdas[:-1], dGs, dG_errs)\n",
    "plt.ylabel(r\"pair BAR $\\Delta G$ (kcal/mol)\");"
   ]
  },
  {
   "cell_type": "markdown",
   "id": "c103a6dc-9b77-4841-a458-d8b0247453be",
   "metadata": {},
   "source": [
    "## Compute BAR overlaps\n",
    "\n",
    "Useful for diagnosing issues with poor overlap between neighboring windows (especially in cases where BAR error is NaN)"
   ]
  },
  {
   "cell_type": "code",
   "execution_count": 38,
   "id": "c521e1f6-ecba-415b-b77c-3e9d3cde5dbf",
   "metadata": {},
   "outputs": [],
   "source": [
    "import pymbar\n",
    "\n",
    "\n",
    "def pair_overlap(lam0, xb0, lam1, xb1):\n",
    "    \"Compute the MBAR overlap between a pair of states\"\n",
    "    u0 = partial(reduced_potential_n, lam0)\n",
    "    u1 = partial(reduced_potential_n, lam1)\n",
    "    u_kn = [\n",
    "        np.concatenate([u0(xb0), u0(xb1)]),\n",
    "        np.concatenate([u1(xb0), u1(xb1)]),\n",
    "    ]\n",
    "    N_k = [len(xb0), len(xb1)]\n",
    "    mbar = pymbar.MBAR(u_kn, N_k)\n",
    "    return 2.0 * mbar.computeOverlap()[\"matrix\"][0, 1]"
   ]
  },
  {
   "cell_type": "code",
   "execution_count": 39,
   "id": "82e7be81-2fe5-4e3e-85aa-e5a456b9b4ce",
   "metadata": {},
   "outputs": [],
   "source": [
    "overlaps = [\n",
    "    pair_overlap(lam0, xb0, lam1, xb1)\n",
    "    for (lam0, xb0), (lam1, xb1) in zip(pairs, pairs[1:])\n",
    "]"
   ]
  },
  {
   "cell_type": "code",
   "execution_count": 40,
   "id": "18f5cda7-4637-448c-9e4b-d778992c9e0c",
   "metadata": {},
   "outputs": [
    {
     "data": {
      "image/png": "[encoded data removed]",
      "text/plain": [
       "<Figure size 432x288 with 1 Axes>"
      ]
     },
     "metadata": {
      "image/png": {
       "height": 261,
       "width": 385
      },
      "needs_background": "light"
     },
     "output_type": "display_data"
    }
   ],
   "source": [
    "plt.plot(lambdas[:-1], overlaps, \".-\")\n",
    "plt.ylim(-0.05, 1.05)\n",
    "for y in [0, 1]:\n",
    "    plt.axhline(y, color=\"gray\", ls=\"--\")\n",
    "plt.xlabel(r\"$\\lambda$\")\n",
    "plt.ylabel(\"pair BAR overlap\");"
   ]
  },
  {
   "cell_type": "code",
   "execution_count": null,
   "id": "e7250360-6002-4762-8583-deeac686034f",
   "metadata": {},
   "outputs": [],
   "source": []
  }
 ],
 "metadata": {
  "kernelspec": {
   "display_name": "Python3 - python3-timemachine",
   "language": "python",
   "name": "ipython_python3-timemachine"
  },
  "language_info": {
   "codemirror_mode": {
    "name": "ipython",
    "version": 3
   },
   "file_extension": ".py",
   "mimetype": "text/x-python",
   "name": "python",
   "nbconvert_exporter": "python",
   "pygments_lexer": "ipython3",
   "version": "3.10.6"
  }
 },
 "nbformat": 4,
 "nbformat_minor": 5
}
